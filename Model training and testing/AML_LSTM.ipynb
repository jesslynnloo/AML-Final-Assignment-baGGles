{
  "nbformat": 4,
  "nbformat_minor": 0,
  "metadata": {
    "colab": {
      "provenance": [],
      "machine_shape": "hm",
      "gpuType": "V100"
    },
    "kernelspec": {
      "name": "python3",
      "display_name": "Python 3"
    },
    "language_info": {
      "name": "python"
    },
    "accelerator": "GPU"
  },
  "cells": [
    {
      "cell_type": "code",
      "execution_count": null,
      "metadata": {
        "colab": {
          "base_uri": "https://localhost:8080/"
        },
        "id": "3NsNS3hQpr1w",
        "outputId": "bc6497ff-3872-4ea7-be80-bbc6f0930cbd"
      },
      "outputs": [
        {
          "output_type": "stream",
          "name": "stdout",
          "text": [
            "Mounted at /content/drive\n"
          ]
        }
      ],
      "source": [
        "from google.colab import drive\n",
        "drive.mount('/content/drive')"
      ]
    },
    {
      "cell_type": "code",
      "source": [
        "import zipfile\n",
        "import os\n",
        "\n",
        "zip_path = '/content/drive/MyDrive/ML2_Project/AML_Data_val.zip'\n",
        "extract_path = '/content/Data2'\n",
        "os.makedirs(extract_path, exist_ok=True)\n",
        "\n",
        "with zipfile.ZipFile(zip_path, 'r') as zip_ref:\n",
        "    zip_ref.extractall(extract_path)"
      ],
      "metadata": {
        "id": "EOSf-jeRqYdg"
      },
      "execution_count": null,
      "outputs": []
    },
    {
      "cell_type": "code",
      "source": [
        "import os\n",
        "\n",
        "def count_folders_in_directory(directory):\n",
        "    return sum(os.path.isdir(os.path.join(directory, i)) for i in os.listdir(directory))\n",
        "\n",
        "directory_path = '/content/Data2/Data_val/train/Finger flicking'\n",
        "folder_count = count_folders_in_directory(directory_path)\n",
        "\n",
        "print(f\"Number of folders in '{directory_path}': {folder_count}\")\n"
      ],
      "metadata": {
        "colab": {
          "base_uri": "https://localhost:8080/"
        },
        "id": "EziHu4m3q_OX",
        "outputId": "2f4d88f2-b428-488d-f9fc-3b0c06e62321"
      },
      "execution_count": null,
      "outputs": [
        {
          "output_type": "stream",
          "name": "stdout",
          "text": [
            "Number of folders in '/content/Data2/Data_val/train/Finger flicking': 1075\n"
          ]
        }
      ]
    },
    {
      "cell_type": "code",
      "source": [
        "import os\n",
        "import torch\n",
        "import torch.nn as nn\n",
        "import torch.optim as optim\n",
        "from torchvision import models, transforms\n",
        "from torch.utils.data import DataLoader, Dataset\n",
        "import matplotlib.pyplot as plt\n",
        "from sklearn.metrics import confusion_matrix\n",
        "import numpy as np\n",
        "import itertools\n",
        "from PIL import Image\n",
        "import copy"
      ],
      "metadata": {
        "id": "fd4hTZNQrCKr"
      },
      "execution_count": null,
      "outputs": []
    },
    {
      "cell_type": "code",
      "source": [
        "class VideoDataset(Dataset):\n",
        "    def __init__(self, root_dir, transform=None):\n",
        "        self.root_dir = root_dir\n",
        "        self.transform = transform\n",
        "        self.classes = {'Arm flapping': 0, 'Finger flicking': 1, 'Null': 2}\n",
        "        self.bunches, self.labels = self._load_bunches()\n",
        "\n",
        "    def _load_bunches(self):\n",
        "        bunches, labels = [], []\n",
        "        for class_name, class_idx in self.classes.items():\n",
        "            class_dir = os.path.join(self.root_dir, class_name)\n",
        "            for bunch in os.listdir(class_dir):\n",
        "                bunch_dir = os.path.join(class_dir, bunch)\n",
        "                if os.path.isdir(bunch_dir):\n",
        "                    frames = sorted([os.path.join(bunch_dir, f) for f in os.listdir(bunch_dir) if f.endswith('.jpg')])\n",
        "                    if len(frames) == 15:\n",
        "                        bunches.append(frames)  # Each bunch is a list of frame file paths\n",
        "                        labels.append(class_idx)\n",
        "        return bunches, labels\n",
        "\n",
        "    def __len__(self):\n",
        "        return len(self.bunches)\n",
        "\n",
        "    def __getitem__(self, idx):\n",
        "        # Load frames for the video (bunch)\n",
        "        frames = [Image.open(frame) for frame in self.bunches[idx]]\n",
        "\n",
        "        # Apply transformation to each frame\n",
        "        if self.transform:\n",
        "            frames = [self.transform(frame) for frame in frames]\n",
        "\n",
        "        # Stack frames along a new dimension (sequence_length) to create a 4D tensor\n",
        "        video_tensor = torch.stack(frames)\n",
        "\n",
        "        label = self.labels[idx]\n",
        "        return video_tensor, label\n"
      ],
      "metadata": {
        "id": "QRJa_XeQO5jF"
      },
      "execution_count": null,
      "outputs": []
    },
    {
      "cell_type": "code",
      "source": [
        "transform = transforms.Compose([\n",
        "    transforms.Resize((224, 224)),\n",
        "    transforms.ToTensor(),\n",
        "    transforms.Normalize(mean=[0.485, 0.456, 0.406], std=[0.229, 0.224, 0.225])\n",
        "])"
      ],
      "metadata": {
        "id": "EskOUcFcPVSP"
      },
      "execution_count": null,
      "outputs": []
    },
    {
      "cell_type": "code",
      "source": [
        "train_dataset = VideoDataset(root_dir='/content/Data2/Data_val/train', transform=transform)\n",
        "val_dataset = VideoDataset(root_dir='/content/Data2/Data_val/val', transform=transform)\n",
        "test_dataset = VideoDataset(root_dir='/content/Data2/Data_val/test', transform=transform)"
      ],
      "metadata": {
        "id": "EDTQqieQmROl"
      },
      "execution_count": null,
      "outputs": []
    },
    {
      "cell_type": "code",
      "source": [
        "batch_size = 4\n",
        "train_loader = DataLoader(train_dataset, batch_size=batch_size, shuffle=True)\n",
        "val_loader = DataLoader(val_dataset, batch_size=batch_size, shuffle=False)\n",
        "test_loader = DataLoader(test_dataset, batch_size=batch_size, shuffle=False)"
      ],
      "metadata": {
        "id": "x14QUtCHmWMf"
      },
      "execution_count": null,
      "outputs": []
    },
    {
      "cell_type": "code",
      "source": [
        "class RNNModel(nn.Module):\n",
        "    def __init__(self, input_size, hidden_size, num_layers, num_classes):\n",
        "        super(RNNModel, self).__init__()\n",
        "        self.hidden_size = hidden_size\n",
        "        self.num_layers = num_layers\n",
        "\n",
        "        # Define the LSTM layer\n",
        "        self.lstm = nn.LSTM(input_size, hidden_size, num_layers, batch_first=True)\n",
        "\n",
        "        # Define the fully connected layer for classification\n",
        "        self.fc = nn.Linear(hidden_size, num_classes)\n",
        "\n",
        "    def forward(self, x):\n",
        "        # Get the batch size and sequence length\n",
        "        batch_size, sequence_length, feature_map_size, height, width = x.size()\n",
        "\n",
        "        # Reshape the input tensor to have 3 dimensions\n",
        "        x = x.view(batch_size, sequence_length, -1)  # Shape: (batch_size, sequence_length, feature_map_size * height * width)\n",
        "\n",
        "        # Initialize hidden state with zeros\n",
        "        h0 = torch.zeros(self.num_layers, x.size(0), self.hidden_size).to(x.device)\n",
        "        c0 = torch.zeros(self.num_layers, x.size(0), self.hidden_size).to(x.device)\n",
        "\n",
        "        # Forward pass through the LSTM layer\n",
        "        out, _ = self.lstm(x, (h0, c0))  # Shape: (batch_size, sequence_length, hidden_size)\n",
        "\n",
        "        # Get the output from the last time step\n",
        "        out = out[:, -1, :]  # Shape: (batch_size, hidden_size)\n",
        "\n",
        "        # Pass the output through the fully connected layer for classification\n",
        "        out = self.fc(out)  # Shape: (batch_size, num_classes)\n",
        "\n",
        "        return out\n"
      ],
      "metadata": {
        "id": "taCxXc2ulmXg"
      },
      "execution_count": null,
      "outputs": []
    },
    {
      "cell_type": "code",
      "source": [
        "def train_model(model, train_loader, val_loader, criterion, optimizer, num_epochs=3):\n",
        "\n",
        "    best_model_wts = copy.deepcopy(model.state_dict())\n",
        "    best_acc = 0.0\n",
        "    train_losses, val_losses, train_accuracies, val_accuracies = [], [], [], []\n",
        "\n",
        "    for epoch in range(num_epochs):\n",
        "\n",
        "        print(f'Epoch {epoch+1}/{num_epochs}')\n",
        "        print('-' * 10)\n",
        "\n",
        "        model.train()\n",
        "        total_loss, total_correct, total = 0, 0, 0\n",
        "\n",
        "        for inputs, labels in train_loader:\n",
        "            inputs, labels = inputs.to(device), labels.to(device)\n",
        "            optimizer.zero_grad()\n",
        "\n",
        "            outputs = model(inputs)\n",
        "            loss = criterion(outputs, labels)\n",
        "            loss.backward()\n",
        "            optimizer.step()\n",
        "\n",
        "            total_loss += loss.item() * inputs.size(0)\n",
        "            _, predicted = torch.max(outputs, 1)\n",
        "            total_correct += (predicted == labels).sum().item()\n",
        "            total += labels.size(0)\n",
        "\n",
        "        train_losses.append(total_loss / total)\n",
        "        train_accuracies.append(total_correct / total)\n",
        "\n",
        "        # Validation\n",
        "        model.eval()\n",
        "        with torch.no_grad():\n",
        "            total_loss, total_correct, total = 0, 0, 0\n",
        "            for inputs, labels in val_loader:\n",
        "                inputs, labels = inputs.to(device), labels.to(device)\n",
        "\n",
        "                outputs = model(inputs)\n",
        "                loss = criterion(outputs, labels)\n",
        "\n",
        "                total_loss += loss.item() * inputs.size(0)\n",
        "                _, predicted = torch.max(outputs, 1)\n",
        "                total_correct += (predicted == labels).sum().item()\n",
        "                total += labels.size(0)\n",
        "\n",
        "            val_losses.append(total_loss / total)\n",
        "            val_accuracy = total_correct / total\n",
        "            val_accuracies.append(val_accuracy)\n",
        "\n",
        "            # Save the model if validation accuracy improves\n",
        "            if val_accuracy > best_acc:\n",
        "                best_acc = val_accuracy\n",
        "                best_model_wts = copy.deepcopy(model.state_dict())\n",
        "\n",
        "        print(f'Epoch {epoch+1}/{num_epochs}, '\n",
        "              f'Train Loss: {train_losses[-1]:.4f}, '\n",
        "              f'Val Loss: {val_losses[-1]:.4f}, '\n",
        "              f'Train Acc: {train_accuracies[-1]:.4f}, '\n",
        "              f'Val Acc: {val_accuracies[-1]:.4f}')\n",
        "        print()\n",
        "\n",
        "    model.load_state_dict(best_model_wts)\n",
        "    return model, train_losses, val_losses, train_accuracies, val_accuracies\n"
      ],
      "metadata": {
        "id": "UX5fCdkemp3h"
      },
      "execution_count": null,
      "outputs": []
    },
    {
      "cell_type": "code",
      "source": [
        "sample_batch, _ = next(iter(train_loader))\n",
        "sample_frame = sample_batch[0][0]  # Take the first video in the batch and the first frame of that video\n",
        "feature_map_size = sample_frame.shape[0]  # Get the number of channels in the frame\n",
        "print(\"Feature Map Size:\", feature_map_size)"
      ],
      "metadata": {
        "colab": {
          "base_uri": "https://localhost:8080/"
        },
        "id": "QDmlFdJyuLjs",
        "outputId": "7b78ea3c-1acc-43e5-8aca-c6cb3cae0936"
      },
      "execution_count": null,
      "outputs": [
        {
          "output_type": "stream",
          "name": "stdout",
          "text": [
            "Feature Map Size: 3\n"
          ]
        }
      ]
    },
    {
      "cell_type": "code",
      "source": [
        "# Use GPU if available\n",
        "device = torch.device(\"cuda\" if torch.cuda.is_available() else \"cpu\")\n",
        "\n",
        "# Initialize the RNN model\n",
        "num_layers = 3\n",
        "rnn_model = RNNModel(input_size=224*224*3 , hidden_size=256, num_layers=num_layers, num_classes=3).to(device)\n",
        "\n",
        "# Define the loss function and optimizer\n",
        "criterion = nn.CrossEntropyLoss()\n",
        "optimizer = optim.Adam(rnn_model.parameters(), lr=0.001)\n",
        "\n",
        "# Train the RNN model using the train_model function\n",
        "epochs= 30\n",
        "rnn_model, train_losses, val_losses, train_accuracies, val_accuracies = train_model(rnn_model, train_loader, val_loader, criterion, optimizer, num_epochs=epochs)\n"
      ],
      "metadata": {
        "id": "jHXILyGcYsYJ"
      },
      "execution_count": null,
      "outputs": []
    },
    {
      "cell_type": "code",
      "source": [
        "def plot_metrics(train_acc, val_acc, train_loss, val_loss):\n",
        "    epochs = range(1, len(train_acc) + 1)\n",
        "    plt.figure(figsize=(12, 4))\n",
        "\n",
        "    plt.subplot(1, 2, 1)\n",
        "    plt.plot(epochs, train_loss, 'b-', label='Training Loss')\n",
        "    plt.plot(epochs, val_loss, 'r-', label='Validation Loss')\n",
        "    plt.title('Training and Validation Loss')\n",
        "    plt.xlabel('Epoch')\n",
        "    plt.ylabel('Loss')\n",
        "    plt.legend()\n",
        "\n",
        "    plt.subplot(1, 2, 2)\n",
        "    plt.plot(epochs, train_acc, 'b-', label='Training Accuracy')\n",
        "    plt.plot(epochs, val_acc, 'r-', label='Validation Accuracy')\n",
        "    plt.title('Training and Validation Accuracy')\n",
        "    plt.xlabel('Epoch')\n",
        "    plt.ylabel('Accuracy')\n",
        "    plt.legend()\n",
        "\n",
        "    plt.tight_layout()\n",
        "    plt.show()"
      ],
      "metadata": {
        "id": "HgN7h7vXm2IX"
      },
      "execution_count": null,
      "outputs": []
    },
    {
      "cell_type": "code",
      "source": [
        "def plot_confusion_matrix(cm, classes, normalize=False, title='Confusion matrix', cmap=plt.cm.Blues):\n",
        "    if normalize:\n",
        "        cm = cm.astype('float') / cm.sum(axis=1)[:, np.newaxis]\n",
        "    plt.imshow(cm, interpolation='nearest', cmap=cmap)\n",
        "    plt.title(title)\n",
        "    plt.colorbar()\n",
        "    tick_marks = np.arange(len(classes))\n",
        "    plt.xticks(tick_marks, classes, rotation=45)\n",
        "    plt.yticks(tick_marks, classes)\n",
        "\n",
        "    fmt = '.2f' if normalize else 'd'\n",
        "    thresh = cm.max() / 2.\n",
        "    for i, j in itertools.product(range(cm.shape[0]), range(cm.shape[1])):\n",
        "        plt.text(j, i, format(cm[i, j], fmt),\n",
        "                 horizontalalignment=\"center\",\n",
        "                 color=\"white\" if cm[i, j] > thresh else \"black\")\n",
        "\n",
        "    plt.tight_layout()\n",
        "    plt.ylabel('True label')\n",
        "    plt.xlabel('Predicted label')\n",
        "    plt.show()"
      ],
      "metadata": {
        "id": "v9GjJqJpnNtX"
      },
      "execution_count": null,
      "outputs": []
    },
    {
      "cell_type": "code",
      "source": [
        "plot_metrics(train_accuracies, val_accuracies, train_losses, val_losses)"
      ],
      "metadata": {
        "id": "B1faDrNcnUE4"
      },
      "execution_count": null,
      "outputs": []
    },
    {
      "cell_type": "code",
      "source": [
        "model = rnn_model\n",
        "model.eval()\n",
        "correct = 0\n",
        "total = 0\n",
        "y_true, y_pred = [], []\n",
        "\n",
        "with torch.no_grad():\n",
        "    for inputs, labels in test_loader:\n",
        "        inputs, labels = inputs.to(device), labels.to(device)\n",
        "        outputs = model(inputs)\n",
        "        _, predicted = torch.max(outputs, 1)\n",
        "\n",
        "        total += labels.size(0)\n",
        "        correct += (predicted == labels).sum().item()\n",
        "\n",
        "        y_true.extend(labels.cpu().numpy())\n",
        "        y_pred.extend(predicted.cpu().numpy())\n",
        "\n",
        "test_accuracy = 100 * correct / total\n",
        "#print(f\"Accuracy on the test set: {test_accuracy:.2f}%\")\n",
        "\n",
        "# Assuming you have the `plot_confusion_matrix` function defined\n",
        "cm = confusion_matrix(y_true, y_pred)\n",
        "plot_confusion_matrix(cm, classes=['Arm flapping', 'Finger flicking', 'Null'])\n",
        "\n",
        "print('Model training and evaluation complete.')\n"
      ],
      "metadata": {
        "id": "bfKCL-pHngXs",
        "colab": {
          "base_uri": "https://localhost:8080/",
          "height": 541
        },
        "outputId": "b90d95b6-a64b-4686-96b5-470bf17bb5ba"
      },
      "execution_count": null,
      "outputs": [
        {
          "output_type": "stream",
          "name": "stdout",
          "text": [
            "Accuracy on the test set: 47.62%\n"
          ]
        },
        {
          "output_type": "display_data",
          "data": {
            "text/plain": [
              "<Figure size 640x480 with 2 Axes>"
            ],
            "image/png": "[encoded data removed]"
          },
          "metadata": {}
        },
        {
          "output_type": "stream",
          "name": "stdout",
          "text": [
            "Model training and evaluation complete.\n"
          ]
        }
      ]
    },
    {
      "cell_type": "code",
      "source": [
        "import numpy as np\n",
        "\n",
        "def calculate_precision(confusion_matrix):\n",
        "    precision = np.zeros(confusion_matrix.shape[0])\n",
        "    for i in range(confusion_matrix.shape[0]):\n",
        "        if np.sum(confusion_matrix, axis=0)[i] != 0:\n",
        "            precision[i] = confusion_matrix[i, i] / np.sum(confusion_matrix, axis=0)[i]\n",
        "        else:\n",
        "            precision[i] = 0.0\n",
        "    return precision\n",
        "\n",
        "\n",
        "\n",
        "\n",
        "def calculate_metrics(confusion_matrix):\n",
        "    precision = calculate_precision(confusion_matrix)\n",
        "    recall = np.diag(confusion_matrix) / np.sum(confusion_matrix, axis=1)\n",
        "    f1_scores = 2 * (precision * recall) / (precision + recall)\n",
        "    f1_scores = np.nan_to_num(f1_scores)  # Convert NaNs to zeros\n",
        "\n",
        "    # Calculate metrics for each class\n",
        "    metrics = {}\n",
        "    for i in range(len(confusion_matrix)):\n",
        "        metrics[f'Class {i}'] = {\n",
        "            'Precision': precision[i],\n",
        "            'Recall/Sensitivity': recall[i],\n",
        "            'F1-Score': f1_scores[i]\n",
        "        }\n",
        "\n",
        "    # Calculate overall averages (macro average, not weighted)\n",
        "    avg_precision = np.nanmean(precision)\n",
        "    avg_recall = np.nanmean(recall)\n",
        "    avg_f1_score = np.nanmean(f1_scores)\n",
        "\n",
        "    metrics['Average'] = {\n",
        "        'Precision': avg_precision,\n",
        "        'Recall/Sensitivity': avg_recall,\n",
        "        'F1-Score': avg_f1_score\n",
        "    }\n",
        "\n",
        "    return metrics\n",
        "\n",
        "# Example usage\n",
        "confusion_matrix = np.array([[29, 2, 31], [21, 1, 19], [104, 5, 45]])  # Replace with your confusion matrix\n",
        "metrics = calculate_metrics(confusion_matrix)\n",
        "for key, value in metrics.items():\n",
        "    print(f\"{key}: {value}\")\n"
      ],
      "metadata": {
        "id": "XzHI98xUsMz3"
      },
      "execution_count": null,
      "outputs": []
    }
  ]
}